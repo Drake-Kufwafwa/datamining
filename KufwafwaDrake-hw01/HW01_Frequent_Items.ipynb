{
 "cells": [
  {
   "cell_type": "markdown",
   "metadata": {},
   "source": [
    "# Dataset Augmentation"
   ]
  },
  {
   "cell_type": "code",
   "execution_count": 1,
   "metadata": {},
   "outputs": [],
   "source": [
    "def resize(data, ds_name, x):\n",
    "    D = open(data, \"r\")\n",
    "    L = open(ds_name, \"w\")\n",
    "    count = 0  \n",
    "    for line in D:\n",
    "        count += 1\n",
    "        for n in range(x):\n",
    "            L.write(line)\n",
    "    L.close()\n",
    "    D.close()\n",
    "    return count * x"
   ]
  },
  {
   "cell_type": "markdown",
   "metadata": {},
   "source": [
    "# Exact Algorithm  "
   ]
  },
  {
   "cell_type": "code",
   "execution_count": 2,
   "metadata": {
    "tags": [
     "hide-input"
    ]
   },
   "outputs": [],
   "source": [
    "def exact_alg(thres, data):\n",
    "    frequencies = []\n",
    "    total_transactions = 0\n",
    "    total_occurrences = {}\n",
    "    D = open(data, \"r\")\n",
    "    \n",
    "    # Store total occurrences of each item\n",
    "    for transaction in D:\n",
    "        total_transactions += 1\n",
    "        for item in transaction.split():\n",
    "            if item != ' ' and item != '\\n':\n",
    "                if item in total_occurrences:\n",
    "                    total_occurrences[item] += 1\n",
    "                else:\n",
    "                    total_occurrences[item] = 1\n",
    "    \n",
    "    # Create a list of tuples containing items each with frequency >= the frequency threshold\n",
    "    for item in total_occurrences:\n",
    "        frequency = total_occurrences[item]/total_transactions\n",
    "        if(frequency >= thres):\n",
    "            tup = (int(item), frequency)\n",
    "            frequencies.append(tup)\n",
    "    \n",
    "    # Sort tuples in increasing order of frequency\n",
    "    frequencies.sort(key = lambda x:x[1], reverse = True)\n",
    "    \n",
    "    return frequencies"
   ]
  },
  {
   "cell_type": "code",
   "execution_count": 3,
   "metadata": {},
   "outputs": [],
   "source": [
    "import time\n",
    "\n",
    "def get_x(tuples):\n",
    "    x = [tup[1] for tup in tuples]\n",
    "    return x\n",
    "\n",
    "def get_y(tuples):\n",
    "    y = [(i + 1) / len(tuples) for i in range(0, len(tuples))]\n",
    "    return y\n",
    "\n",
    "def resize_and_run(data, x):\n",
    "    ds_name = \"new_\" + data\n",
    "    dsize = resize(data, ds_name, x)\n",
    "    \n",
    "    # calculate time taken\n",
    "    t0 = time.time()\n",
    "    frequencies = exact_alg(1/dsize, ds_name)\n",
    "    t1 = time.time()\n",
    "    \n",
    "    print(data[:len(data)-4], \"size:\", dsize)\n",
    "    print(\"Time taken by Exact Algorithm on\", data[:len(data)-4], \"is \", t1-t0, \"seconds\")\n",
    "    \n",
    "    return frequencies"
   ]
  },
  {
   "cell_type": "code",
   "execution_count": 4,
   "metadata": {},
   "outputs": [
    {
     "name": "stdout",
     "output_type": "stream",
     "text": [
      "kosarak size: 2970006\n",
      "Time taken by Exact Algorithm on kosarak is  6.323981046676636 seconds\n",
      "accidents size: 3401830\n",
      "Time taken by Exact Algorithm on accidents is  23.12293004989624 seconds\n",
      "webdocs size: 3384164\n",
      "Time taken by Exact Algorithm on webdocs is  188.93817806243896 seconds\n"
     ]
    }
   ],
   "source": [
    "# Reporting time taken and size for each dataset\n",
    "\n",
    "kosarak = resize_and_run(\"kosarak.txt\", 3)\n",
    "accidents = resize_and_run(\"accidents.txt\", 10)\n",
    "webdocs = resize_and_run(\"webdocs.txt\", 2)"
   ]
  },
  {
   "cell_type": "markdown",
   "metadata": {},
   "source": [
    "### Evaluation and Report\n",
    "\n",
    "From the graph, we see that as we increase `thres`, the fraction of items with `frequency >= thres` decreases. We can infer a couple of things about the dataset from the steepness of this curve. There are many items with very low frequencies and only a few items with high frequencies in `kosarak.txt` and `webdocs.txt`. The graph for `accidents.txt` does not have as steep a curve as `kosarak.txt` or `webdocs.txt`. This implies that items in `accidents.txt` have frequencies that are more evenly ditributed. We can also infer that `kosarak.txt` and `webdocs.txt` have relatively smaller transactions sizes than `accidents.txt` because `accidents.txt` has a higher fraction of items with higher frequencies. Therefore, those items appear in more transactions and the transaction sizes are generally larger. \n",
    "\n",
    "We also observe that the curves for `kosarak.txt` and `webdocs.txt` are superimposed on each other."
   ]
  },
  {
   "cell_type": "code",
   "execution_count": 5,
   "metadata": {},
   "outputs": [
    {
     "data": {
      "image/png": "[encoded data removed]",
      "text/plain": [
       "<Figure size 432x288 with 1 Axes>"
      ]
     },
     "metadata": {
      "needs_background": "light"
     },
     "output_type": "display_data"
    }
   ],
   "source": [
    "import matplotlib.pyplot as plt\n",
    "\n",
    "# Plot curves\n",
    "\n",
    "plt.title('kosarak, accidents & webdocs')\n",
    "plt.xlabel('thres')\n",
    "plt.ylabel('|F(D,thres)| / |I|')\n",
    "\n",
    "kosarak_curve, = plt.plot(get_x(kosarak), get_y(kosarak), label='kosarak')\n",
    "accidents_curve, = plt.plot(get_x(accidents), get_y(accidents), label='accidents')\n",
    "webdocs_curve, = plt.plot(get_x(webdocs), get_y(webdocs), label='webdocs')\n",
    "\n",
    "plt.legend(handles=[kosarak_curve, accidents_curve, webdocs_curve])\n",
    "plt.show()"
   ]
  },
  {
   "cell_type": "code",
   "execution_count": 6,
   "metadata": {},
   "outputs": [
    {
     "data": {
      "image/png": "[encoded data removed]",
      "text/plain": [
       "<Figure size 432x288 with 1 Axes>"
      ]
     },
     "metadata": {
      "needs_background": "light"
     },
     "output_type": "display_data"
    }
   ],
   "source": [
    "# Plot Kosarak alone\n",
    "\n",
    "plt.xlabel('thres')\n",
    "plt.ylabel('|F(D,thres)| / |I|')\n",
    "plt.title(\"kosarak\")\n",
    "plt.plot(get_x(kosarak), get_y(kosarak), label='kosarak')\n",
    "plt.show()"
   ]
  },
  {
   "cell_type": "markdown",
   "metadata": {},
   "source": [
    "# Sampling Based Algorithm"
   ]
  },
  {
   "cell_type": "code",
   "execution_count": 7,
   "metadata": {
    "tags": [
     "hide-input"
    ]
   },
   "outputs": [],
   "source": [
    "import math\n",
    "import random \n",
    "\n",
    "def sampling_based_alg(ssize, dsize, delta, thres, data):\n",
    "    D = open(data, \"r\")\n",
    "    frequencies = []\n",
    "    total_occurrences = {}\n",
    "    temp_max = 0\n",
    "    max_tup = 0\n",
    "    index = 0\n",
    "    samp_index = 0\n",
    "    eps = 0\n",
    "    ds = 0\n",
    "    new_thres = 0\n",
    "    res = ()\n",
    "    \n",
    "    # Create list of random indexes\n",
    "    sampleidxs = random.sample(range(1, dsize), ssize)\n",
    "    sampleidxs.sort()\n",
    "    \n",
    "    for transaction in D:\n",
    "        \n",
    "        if(samp_index > len(sampleidxs)-1):\n",
    "            break\n",
    "        \n",
    "        # Count occurences only in transactions with sampled indexes\n",
    "        if index == sampleidxs[samp_index]:\n",
    "            for item in transaction.split():\n",
    "                    temp_max += 1\n",
    "                    if item != ' ' and item != '\\n':\n",
    "                        if item in total_occurrences:\n",
    "                            total_occurrences[item] += 1\n",
    "                        else:\n",
    "                            total_occurrences[item] = 1\n",
    "                    \n",
    "            # Update max transaction size value\n",
    "            if temp_max > max_tup:\n",
    "                max_tup = temp_max\n",
    "            temp_max = 0\n",
    "            samp_index += 1\n",
    "        index += 1\n",
    "     \n",
    "    # Calculate values for the sample\n",
    "    ds = math.floor(math.log(max_tup, 2) + 1)\n",
    "    eps = math.sqrt((2 * (ds + math.log(1/delta))) / ssize)\n",
    "    new_thres = thres - (eps/2)\n",
    "    \n",
    "    # Create a list of tuples containing items each with frequency >= the new frequency threshold\n",
    "    for item in total_occurrences:\n",
    "        frequency = total_occurrences[item]/ssize\n",
    "        if(frequency >= new_thres):\n",
    "            tup = (int(item), frequency)\n",
    "            frequencies.append(tup)\n",
    "            \n",
    "    # Sort the list of tuples in increasing order of frequency\n",
    "    frequencies.sort(key = lambda x:x[1], reverse = True)\n",
    "    \n",
    "    output = (eps, frequencies)\n",
    "    return output"
   ]
  },
  {
   "cell_type": "markdown",
   "metadata": {},
   "source": [
    "### Sampling-Based Algorithm Runtime"
   ]
  },
  {
   "cell_type": "code",
   "execution_count": 8,
   "metadata": {},
   "outputs": [],
   "source": [
    "import time\n",
    "\n",
    "data = 'new_accidents.txt'\n",
    "runtimes = {}\n",
    "outputs = {}\n",
    "exact_runtime = 0\n",
    "exact_mod_runtime = 0\n",
    "\n",
    "s_sizes = [30000, 300000, 1000000, 1500000]\n",
    "dsize = 3401830\n",
    "thres = 0.2\n",
    "delta = 0.1\n",
    "\n",
    "def timeit(data, ssize, dsize, thres, delta):\n",
    "    \n",
    "    t0 = time.time()\n",
    "    output = sampling_based_alg(ssize, dsize, delta, thres, data)\n",
    "    t1 = time.time()\n",
    "    \n",
    "    res = (math.ceil((t1-t0) * 1000), output)\n",
    "    return  res\n",
    "    \n",
    "for ssize in s_sizes:\n",
    "    runtimes[ssize] = []\n",
    "    outputs[ssize] = []\n",
    "    for i in range(5):\n",
    "        res = timeit(data, ssize, dsize, thres, delta)\n",
    "        runtimes[ssize].append(res[0])\n",
    "        outputs[ssize].append(res[1])"
   ]
  },
  {
   "cell_type": "markdown",
   "metadata": {},
   "source": [
    "### Exact algorithm runtime"
   ]
  },
  {
   "cell_type": "code",
   "execution_count": 9,
   "metadata": {},
   "outputs": [],
   "source": [
    "t_exact = 0\n",
    "t_exact_maxeps = 0\n",
    "maxeps = 0\n",
    "\n",
    "for res in outputs[s_sizes[0]]:\n",
    "    if res[0] > maxeps:\n",
    "        maxeps = res[0]\n",
    "\n",
    "t2 = time.time()\n",
    "exact_res = exact_alg(thres, \"new_accidents.txt\")\n",
    "t3 = time.time()\n",
    "t_exact = math.ceil((t3-t2) * 1000)\n",
    "\n",
    "t4 = time.time()\n",
    "exact_maxeps_res = exact_alg((thres - maxeps), \"new_accidents.txt\")\n",
    "t5 = time.time()\n",
    "t_exact_maxeps = math.ceil((t5-t4) * 1000)"
   ]
  },
  {
   "cell_type": "code",
   "execution_count": 10,
   "metadata": {},
   "outputs": [],
   "source": [
    "# Measures of runtimes across 5 cycles\n",
    "\n",
    "max_runtimes = []\n",
    "min_runtimes = []\n",
    "median_runtimes = []\n",
    "sorted_runtimes = []\n",
    "\n",
    "for ssize in s_sizes:\n",
    "    sorted_runtimes = sorted(runtimes[ssize])\n",
    "    max_runtimes.append(sorted_runtimes[len(sorted_runtimes) - 1])\n",
    "    min_runtimes.append(sorted_runtimes[0])\n",
    "    median_runtimes.append(sorted_runtimes[math.ceil(len(sorted_runtimes)/2)])\n",
    "    \n",
    "# Maximum errors and Maximum eps/2\n",
    "temp_max_err = 0 \n",
    "temp_max_eps = 0\n",
    "\n",
    "max_err_run = []\n",
    "\n",
    "max_err = []\n",
    "min_err = []\n",
    "median_err = []\n",
    "max_eps = []\n",
    "\n",
    "for ssize in s_sizes:\n",
    "    for run in outputs[ssize]:\n",
    "        if run[0] > temp_max_eps:\n",
    "            temp_max_eps = run[0]\n",
    "        for n in range(len(run[1])):\n",
    "            if exact_maxeps_res[n][1] - run[1][n][1] > temp_max_err:\n",
    "                temp_max_err = exact_maxeps_res[n][1] - run[1][n][1]\n",
    "        max_err_run.append(temp_max_err)\n",
    "        temp_max_err = 0\n",
    "    max_err_run = sorted(max_err_run)\n",
    "    max_err.append(max_err_run[len(max_err_run) - 1])\n",
    "    median_err.append(max_err_run[math.ceil(len(max_err_run)/2)])\n",
    "    min_err.append(max_err_run[0])\n",
    "    max_eps.append(temp_max_eps/2)\n",
    "    max_err_run = []\n",
    "    temp_max_eps = 0"
   ]
  },
  {
   "cell_type": "markdown",
   "metadata": {},
   "source": [
    "## Evaluation & Report\n",
    "\n",
    "I used the sample sizes: [30000, 300000, 1000000, 1500000]"
   ]
  },
  {
   "cell_type": "code",
   "execution_count": 11,
   "metadata": {},
   "outputs": [
    {
     "data": {
      "image/png": "[encoded data removed]",
      "text/plain": [
       "<Figure size 432x288 with 1 Axes>"
      ]
     },
     "metadata": {
      "needs_background": "light"
     },
     "output_type": "display_data"
    }
   ],
   "source": [
    "# Plotting Runtimes\n",
    "plt.title('Runtime: Exact vs Sampling')\n",
    "plt.xlabel('Sample Size')\n",
    "plt.ylabel('Runtime')\n",
    "max_curve, = plt.plot(s_sizes, max_runtimes, '--', label='max')\n",
    "min_curve, = plt.plot(s_sizes, min_runtimes, ':', label='min')\n",
    "median_curve, = plt.plot(s_sizes, median_runtimes, '-.', label='median')\n",
    "plt.axhline(y=t_exact)\n",
    "plt.legend(handles=[max_curve, min_curve, median_curve])\n",
    "plt.show()"
   ]
  },
  {
   "cell_type": "markdown",
   "metadata": {},
   "source": [
    "From the graph, we see that for the sampling-based algorithm, the runtime increases as sample size increases. There is not much difference between the maximum and minimum runtimes for the different trials. However, we observe that the sampling-based algorithm runs much faster than the exact algorithm. "
   ]
  },
  {
   "cell_type": "code",
   "execution_count": 12,
   "metadata": {},
   "outputs": [
    {
     "data": {
      "image/png": "[encoded data removed]",
      "text/plain": [
       "<Figure size 432x288 with 1 Axes>"
      ]
     },
     "metadata": {
      "needs_background": "light"
     },
     "output_type": "display_data"
    }
   ],
   "source": [
    "# Plotting Maximum Errors\n",
    "plt.title('Sample Sizes and Errors')\n",
    "plt.xlabel('Sample Size')\n",
    "plt.ylabel('Maximum Frequency Error')\n",
    "max_curve, = plt.plot(s_sizes, max_err, '--', label='max')\n",
    "min_curve, = plt.plot(s_sizes, min_err, ':', label='min')\n",
    "median_curve, = plt.plot(s_sizes, median_err, '-.', label='median')\n",
    "max_eps_curve, = plt.plot(s_sizes, max_eps, '.', label='eps/2')\n",
    "plt.legend(handles=[max_curve, min_curve, median_curve, max_eps_curve])\n",
    "plt.show()"
   ]
  },
  {
   "cell_type": "markdown",
   "metadata": {},
   "source": [
    "From the graph, we see that the errors in frequencies decrease as the sample size increases. Notably, if the sample size gets too small, the margin of error significantly increases and then gradually decreases with increase in sample size. The graph is initially steep curve because the first sample size is much smaller compared to the higher sample sizes. Because of this we observe a uniform decrease in the theoretical guarranty of error. We note that even with sample size as small as x0.015 the original size, the maximum error does not exceed eps/2."
   ]
  },
  {
   "cell_type": "code",
   "execution_count": null,
   "metadata": {},
   "outputs": [],
   "source": []
  }
 ],
 "metadata": {
  "kernelspec": {
   "display_name": "Python 3",
   "language": "python",
   "name": "python3"
  },
  "language_info": {
   "codemirror_mode": {
    "name": "ipython",
    "version": 3
   },
   "file_extension": ".py",
   "mimetype": "text/x-python",
   "name": "python",
   "nbconvert_exporter": "python",
   "pygments_lexer": "ipython3",
   "version": "3.8.3"
  }
 },
 "nbformat": 4,
 "nbformat_minor": 4
}
